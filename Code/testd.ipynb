{
 "cells": [
  {
   "cell_type": "code",
   "execution_count": 2,
   "metadata": {},
   "outputs": [],
   "source": [
    "import cv2\n",
    "import pytesseract\n",
    "import pandas as pd"
   ]
  },
  {
   "cell_type": "code",
   "execution_count": 3,
   "metadata": {},
   "outputs": [],
   "source": [
    "image_path = '1.jpeg'\n",
    "image = cv2.imread(image_path)"
   ]
  },
  {
   "cell_type": "code",
   "execution_count": 4,
   "metadata": {},
   "outputs": [],
   "source": [
    "gray = cv2.cvtColor(image, cv2.COLOR_BGR2GRAY)"
   ]
  },
  {
   "cell_type": "code",
   "execution_count": 5,
   "metadata": {},
   "outputs": [],
   "source": [
    "extracted_text = pytesseract.image_to_string(gray)"
   ]
  },
  {
   "cell_type": "code",
   "execution_count": 7,
   "metadata": {},
   "outputs": [
    {
     "name": "stdout",
     "output_type": "stream",
     "text": [
      "1ob\n",
      "\n",
      "Signing Sheet\n",
      "NSBM Green University Town\n",
      "School of Computing\n",
      "\n",
      "BSc (Hons) in Software Engineering - 2016.1\n",
      "\n",
      "yy,\n",
      "a a SES\n",
      "FS | Re foo\n",
      "O a! z B Ww Dr. fa’ ‘ j (A Qa! CALA & —d ps\n",
      "2 —\n",
      "\n",
      "-—Ne_[_Stadentno [Tie |r seifientneae Stic\n",
      "[2 feos Tas [Sia err Le\n",
      "10009301 C WM AShehan Abeyrathne _—\n",
      "10009302 BAKM Chithrananda /_ Say\n",
      "ees | 10009303 W Shashini Minosha De Silva a\n",
      "\n",
      "10009304 K L Udara Maduranga Liyanage —..\n",
      "\n"
     ]
    }
   ],
   "source": []
  },
  {
   "cell_type": "code",
   "execution_count": null,
   "metadata": {},
   "outputs": [],
   "source": []
  }
 ],
 "metadata": {
  "kernelspec": {
   "display_name": "Python 3",
   "language": "python",
   "name": "python3"
  },
  "language_info": {
   "codemirror_mode": {
    "name": "ipython",
    "version": 3
   },
   "file_extension": ".py",
   "mimetype": "text/x-python",
   "name": "python",
   "nbconvert_exporter": "python",
   "pygments_lexer": "ipython3",
   "version": "3.10.6"
  },
  "orig_nbformat": 4
 },
 "nbformat": 4,
 "nbformat_minor": 2
}
